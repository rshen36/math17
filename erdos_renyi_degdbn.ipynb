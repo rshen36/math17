{
 "cells": [
  {
   "cell_type": "code",
   "execution_count": 9,
   "metadata": {
    "collapsed": true
   },
   "outputs": [],
   "source": [
    "# imports\n",
    "import networkx as nx\n",
    "import matplotlib.pyplot as plt\n",
    "import numpy as np\n",
    "import scipy as sp\n",
    "import math\n",
    "\n",
    "%matplotlib inline"
   ]
  },
  {
   "cell_type": "code",
   "execution_count": null,
   "metadata": {
    "collapsed": true
   },
   "outputs": [],
   "source": [
    "N = 200000; c = 1.; p = c/(N-1);\n",
    "GP = nx.gnp_random_graph(N, p, seed=None, directed=False)\n",
    "degree_values = np.array(nx.degree(GP).values())"
   ]
  },
  {
   "cell_type": "code",
   "execution_count": null,
   "metadata": {
    "collapsed": false
   },
   "outputs": [],
   "source": [
    "# histogram\n",
    "bins=np.arange(-0.5,20.5)\n",
    "deg_k=np.histogram(degree_values,bins=bins)\n",
    "\n",
    "# degree distribution\n",
    "P_k=deg_k[0]/np.float(N)\n",
    "plt.plot(bins[:-1],P_k,'b-o',label='c=1')\n",
    "\n",
    "x = np.arange(0,20.5,0.1)\n",
    "pd = (c**x/sp.misc.factorial(x))*math.exp(-c)\n",
    "plt.plot(x,pd,'b--',label='Poisson c=1')"
   ]
  },
  {
   "cell_type": "code",
   "execution_count": null,
   "metadata": {
    "collapsed": true
   },
   "outputs": [],
   "source": []
  }
 ],
 "metadata": {
  "kernelspec": {
   "display_name": "Python 2",
   "language": "python",
   "name": "python2"
  },
  "language_info": {
   "codemirror_mode": {
    "name": "ipython",
    "version": 2
   },
   "file_extension": ".py",
   "mimetype": "text/x-python",
   "name": "python",
   "nbconvert_exporter": "python",
   "pygments_lexer": "ipython2",
   "version": "2.7.10"
  }
 },
 "nbformat": 4,
 "nbformat_minor": 1
}
