{
 "cells": [
  {
   "cell_type": "code",
   "execution_count": 1,
   "metadata": {
    "collapsed": true
   },
   "outputs": [],
   "source": [
    "# imports\n",
    "import numpy as np\n",
    "import networkx as nx\n",
    "import matplotlib.pyplot as plt\n",
    "\n",
    "%matplotlib inline"
   ]
  },
  {
   "cell_type": "code",
   "execution_count": 9,
   "metadata": {
    "collapsed": false
   },
   "outputs": [
    {
     "name": "stdout",
     "output_type": "stream",
     "text": [
      "number of nodes in the data = 1589\n",
      "number of edges in the data = 2742\n"
     ]
    }
   ],
   "source": [
    "G = nx.read_pajek('./netscience/netscience.paj')\n",
    "\n",
    "print 'number of nodes in the data =',G.number_of_nodes()\n",
    "print 'number of edges in the data =',G.number_of_edges()"
   ]
  },
  {
   "cell_type": "code",
   "execution_count": 10,
   "metadata": {
    "collapsed": false
   },
   "outputs": [
    {
     "name": "stdout",
     "output_type": "stream",
     "text": [
      "Degree Assortativity, rho = 0.462\n"
     ]
    }
   ],
   "source": [
    "rho=nx.degree_assortativity_coefficient(G)\n",
    "print 'Degree Assortativity, rho =', \"%3.3f\"%rho"
   ]
  },
  {
   "cell_type": "code",
   "execution_count": 11,
   "metadata": {
    "collapsed": true
   },
   "outputs": [],
   "source": [
    "A1=np.loadtxt('./netscience/s50-network1.dat')"
   ]
  },
  {
   "cell_type": "code",
   "execution_count": 12,
   "metadata": {
    "collapsed": false
   },
   "outputs": [
    {
     "name": "stdout",
     "output_type": "stream",
     "text": [
      "number of nodes in the data = 1589\n",
      "number of edges in the data = 2742\n"
     ]
    }
   ],
   "source": [
    "G1=nx.from_numpy_matrix(A1)\n",
    "\n",
    "print 'number of nodes in the data =',G.number_of_nodes()\n",
    "print 'number of edges in the data =',G.number_of_edges()"
   ]
  },
  {
   "cell_type": "code",
   "execution_count": 13,
   "metadata": {
    "collapsed": true
   },
   "outputs": [],
   "source": [
    "attr_smoke=np.loadtxt('./netscience/s50-smoke.dat')\n",
    "d1 = dict(zip(G1.nodes(),np.int32(attr_smoke[:,0])))\n",
    "nx.set_node_attributes(G1,'smoke1',d1)"
   ]
  },
  {
   "cell_type": "code",
   "execution_count": 14,
   "metadata": {
    "collapsed": false
   },
   "outputs": [
    {
     "name": "stdout",
     "output_type": "stream",
     "text": [
      "assortativity for smoking in the data 0.226801559002\n"
     ]
    }
   ],
   "source": [
    "print 'assortativity for smoking in the data',nx.numeric_assortativity_coefficient(G1,'smoke1')"
   ]
  },
  {
   "cell_type": "code",
   "execution_count": 2,
   "metadata": {
    "collapsed": false
   },
   "outputs": [
    {
     "data": {
      "text/plain": [
       "(0.2, 0.45)"
      ]
     },
     "execution_count": 2,
     "metadata": {},
     "output_type": "execute_result"
    },
    {
     "data": {
      "image/png": "[encoded data removed]",
      "text/plain": [
       "<matplotlib.figure.Figure at 0x113e14850>"
      ]
     },
     "metadata": {},
     "output_type": "display_data"
    }
   ],
   "source": [
    "for i in [0,1,2]:\n",
    "    fln='./netscience/s50-network'+str(i+1)+'.dat'\n",
    "    A1=np.loadtxt(fln)\n",
    "    \n",
    "plt.xlim([0.2,0.45])"
   ]
  },
  {
   "cell_type": "code",
   "execution_count": 3,
   "metadata": {
    "collapsed": false
   },
   "outputs": [
    {
     "data": {
      "text/plain": [
       "array([[ 0.,  0.,  0., ...,  0.,  0.,  0.],\n",
       "       [ 0.,  0.,  0., ...,  0.,  0.,  0.],\n",
       "       [ 0.,  0.,  0., ...,  0.,  0.,  0.],\n",
       "       ..., \n",
       "       [ 0.,  0.,  0., ...,  0.,  1.,  0.],\n",
       "       [ 0.,  0.,  0., ...,  1.,  0.,  0.],\n",
       "       [ 0.,  0.,  0., ...,  0.,  0.,  0.]])"
      ]
     },
     "execution_count": 3,
     "metadata": {},
     "output_type": "execute_result"
    }
   ],
   "source": [
    "A1"
   ]
  },
  {
   "cell_type": "code",
   "execution_count": null,
   "metadata": {
    "collapsed": true
   },
   "outputs": [],
   "source": [
    "plt.ylim([0.2,0.45])\n",
    "plt.xlim([-0.3,2.5])\n",
    "plt.xticks([0,1,2],['year 1', 'year 2', 'year 3'])"
   ]
  },
  {
   "cell_type": "code",
   "execution_count": 16,
   "metadata": {
    "collapsed": true
   },
   "outputs": [],
   "source": [
    "attr_alcohol=np.loadtxt('./netscience/s50-alcohol.dat')\n",
    "d2 = dict(zip(G1.nodes(),np.int32(attr_alcohol[:,0])))\n",
    "nx.set_node_attributes(G1,'alcohol1',d2)"
   ]
  },
  {
   "cell_type": "code",
   "execution_count": 17,
   "metadata": {
    "collapsed": false
   },
   "outputs": [
    {
     "name": "stdout",
     "output_type": "stream",
     "text": [
      "assortativity for smoking in the data 0.323170731707\n"
     ]
    }
   ],
   "source": [
    "print 'assortativity for alcohol in the data',nx.numeric_assortativity_coefficient(G1,'alcohol1')"
   ]
  },
  {
   "cell_type": "code",
   "execution_count": 18,
   "metadata": {
    "collapsed": true
   },
   "outputs": [],
   "source": [
    "attr_sport=np.loadtxt('./netscience/s50-sport.dat')\n",
    "d3 = dict(zip(G1.nodes(),np.int32(attr_sport[:,0])))\n",
    "nx.set_node_attributes(G1,'sport1',d3)"
   ]
  },
  {
   "cell_type": "code",
   "execution_count": 19,
   "metadata": {
    "collapsed": false
   },
   "outputs": [
    {
     "name": "stdout",
     "output_type": "stream",
     "text": [
      "assortativity for sports in the data 0.0691823899371\n"
     ]
    }
   ],
   "source": [
    "print 'assortativity for sports in the data',nx.numeric_assortativity_coefficient(G1,'sport1')"
   ]
  },
  {
   "cell_type": "code",
   "execution_count": 20,
   "metadata": {
    "collapsed": true
   },
   "outputs": [],
   "source": [
    "attr_drugs=np.loadtxt('./netscience/s50-drugs.dat')\n",
    "d4 = dict(zip(G1.nodes(),np.int32(attr_drugs[:,0])))\n",
    "nx.set_node_attributes(G1,'drugs1',d4)"
   ]
  },
  {
   "cell_type": "code",
   "execution_count": 21,
   "metadata": {
    "collapsed": false
   },
   "outputs": [
    {
     "name": "stdout",
     "output_type": "stream",
     "text": [
      "assortativity for drugs in the data 0.595368285622\n"
     ]
    }
   ],
   "source": [
    "print 'assortativity for drugs in the data',nx.numeric_assortativity_coefficient(G1,'drugs1')"
   ]
  },
  {
   "cell_type": "code",
   "execution_count": null,
   "metadata": {
    "collapsed": true
   },
   "outputs": [],
   "source": []
  }
 ],
 "metadata": {
  "kernelspec": {
   "display_name": "Python 2",
   "language": "python",
   "name": "python2"
  },
  "language_info": {
   "codemirror_mode": {
    "name": "ipython",
    "version": 2
   },
   "file_extension": ".py",
   "mimetype": "text/x-python",
   "name": "python",
   "nbconvert_exporter": "python",
   "pygments_lexer": "ipython2",
   "version": "2.7.10"
  }
 },
 "nbformat": 4,
 "nbformat_minor": 1
}
