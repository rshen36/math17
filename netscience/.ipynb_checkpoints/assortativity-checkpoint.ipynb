{
 "cells": [
  {
   "cell_type": "markdown",
   "metadata": {},
   "source": [
    "### Degree Assortativity"
   ]
  },
  {
   "cell_type": "code",
   "execution_count": 1,
   "metadata": {
    "collapsed": true
   },
   "outputs": [],
   "source": [
    "import networkx as nx\n",
    "import numpy as np\n",
    "import matplotlib.pyplot as plt\n",
    "%matplotlib inline"
   ]
  },
  {
   "cell_type": "markdown",
   "metadata": {},
   "source": [
    "####  Degree Assortativity for coauthorship network of scientists\n",
    "\n",
    "The network was compiled from the bibliographies of two review\n",
    "articles on networks, M. E. J. Newman, SIAM Review 45, 167-256 (2003) and\n",
    "S. Boccaletti et al., Physics Reports 424, 175-308 (2006), with a few\n",
    "additional references added by hand. \n",
    "\n",
    "M. E. J. Newman, Finding\n",
    "community structure in networks using the eigenvectors of matrices,\n",
    "Preprint physics/0605087 (2006)."
   ]
  },
  {
   "cell_type": "code",
   "execution_count": 2,
   "metadata": {
    "collapsed": false
   },
   "outputs": [
    {
     "name": "stdout",
     "output_type": "stream",
     "text": [
      "number of nodes in the data= 1589\n",
      "number of edges in the data= 2742\n"
     ]
    }
   ],
   "source": [
    "G=nx.read_pajek('netscience.paj')\n",
    "\n",
    "print 'number of nodes in the data=',G.number_of_nodes()\n",
    "print 'number of edges in the data=',G.number_of_edges()"
   ]
  },
  {
   "cell_type": "code",
   "execution_count": 3,
   "metadata": {
    "collapsed": false
   },
   "outputs": [
    {
     "name": "stdout",
     "output_type": "stream",
     "text": [
      "Degree Assortativity, rho= 0.462\n"
     ]
    }
   ],
   "source": [
    "rho=nx.degree_assortativity_coefficient(G)\n",
    "print 'Degree Assortativity, rho=', \"%3.3f\"%rho"
   ]
  },
  {
   "cell_type": "markdown",
   "metadata": {},
   "source": [
    "### Assortativity by Attributes \n",
    "##### Teenage Friends and Lifestyle Study\n",
    "\n",
    "\n",
    "Please see the following link for references and details about the data\n",
    "\n",
    "https://www.stats.ox.ac.uk/~snijders/siena/Glasgow_data.htm"
   ]
  },
  {
   "cell_type": "code",
   "execution_count": 4,
   "metadata": {
    "collapsed": false
   },
   "outputs": [],
   "source": [
    "A1=np.loadtxt('s50-network1.dat')"
   ]
  },
  {
   "cell_type": "code",
   "execution_count": 5,
   "metadata": {
    "collapsed": false
   },
   "outputs": [
    {
     "name": "stdout",
     "output_type": "stream",
     "text": [
      "number of nodes in the data= 50\n",
      "number of edges in the data= 74\n"
     ]
    }
   ],
   "source": [
    "G1=nx.from_numpy_matrix(A1)\n",
    "\n",
    "print 'number of nodes in the data=',G1.number_of_nodes()\n",
    "print 'number of edges in the data=',G1.number_of_edges()"
   ]
  },
  {
   "cell_type": "markdown",
   "metadata": {},
   "source": [
    "### Attribute: Smoking "
   ]
  },
  {
   "cell_type": "markdown",
   "metadata": {},
   "source": [
    "Assortativity for the attribute smoking in the data "
   ]
  },
  {
   "cell_type": "code",
   "execution_count": 6,
   "metadata": {
    "collapsed": true
   },
   "outputs": [],
   "source": [
    "attr_smoke=np.loadtxt('s50-smoke.dat')\n",
    "d1 =dict(zip(G1.nodes(),np.int32(attr_smoke[:,0])))\n",
    "nx.set_node_attributes(G1,'smoke1',d1)"
   ]
  },
  {
   "cell_type": "code",
   "execution_count": 7,
   "metadata": {
    "collapsed": false
   },
   "outputs": [
    {
     "name": "stdout",
     "output_type": "stream",
     "text": [
      "assortativity for smoking in the data 0.226801559002\n"
     ]
    }
   ],
   "source": [
    "print 'assortativity for smoking in the data',nx.numeric_assortativity_coefficient(G1,'smoke1')"
   ]
  },
  {
   "cell_type": "markdown",
   "metadata": {},
   "source": [
    "Assortativity change over time in the data "
   ]
  },
  {
   "cell_type": "code",
   "execution_count": 8,
   "metadata": {
    "collapsed": false
   },
   "outputs": [
    {
     "data": {
      "image/png": "[encoded data removed]",
      "text/plain": [
       "<matplotlib.figure.Figure at 0x106d72ad0>"
      ]
     },
     "metadata": {},
     "output_type": "display_data"
    }
   ],
   "source": [
    "for i in [0,1,2]:\n",
    "    d1 =dict(zip(G1.nodes(),np.int32(attr_smoke[:,i])))\n",
    "    nx.set_node_attributes(G1,'smoke1',d1)\n",
    "    a_value=nx.numeric_assortativity_coefficient(G1,'smoke1')\n",
    "    plt.plot(i,a_value,'go',ms=20)\n",
    "plt.ylim([0.2,0.35])\n",
    "plt.xlim([-0.3,2.5])\n",
    "plt.xticks([0,1,2],['year 1', 'year 2', 'year 3']);"
   ]
  },
  {
   "cell_type": "markdown",
   "metadata": {},
   "source": [
    "### Attribute: Alcohol"
   ]
  },
  {
   "cell_type": "markdown",
   "metadata": {},
   "source": [
    "Assortativity for the Alcohol in the data "
   ]
  },
  {
   "cell_type": "code",
   "execution_count": 9,
   "metadata": {
    "collapsed": false
   },
   "outputs": [
    {
     "data": {
      "text/plain": [
       "0.32317073170731742"
      ]
     },
     "execution_count": 9,
     "metadata": {},
     "output_type": "execute_result"
    }
   ],
   "source": [
    "attr_alcohol=np.loadtxt('s50-alcohol.dat')\n",
    "d1 =dict(zip(G1.nodes(),np.int32(attr_alcohol[:,0])))\n",
    "nx.set_node_attributes(G1,'alcohol1',d1)\n",
    "nx.numeric_assortativity_coefficient(G1,'alcohol1')"
   ]
  },
  {
   "cell_type": "markdown",
   "metadata": {},
   "source": [
    "Assortativity change over time in the data "
   ]
  },
  {
   "cell_type": "code",
   "execution_count": 10,
   "metadata": {
    "collapsed": false
   },
   "outputs": [
    {
     "data": {
      "image/png": "[encoded data removed]",
      "text/plain": [
       "<matplotlib.figure.Figure at 0x109718f90>"
      ]
     },
     "metadata": {},
     "output_type": "display_data"
    }
   ],
   "source": [
    "for i in [0,1,2]:\n",
    "    d1 =dict(zip(G1.nodes(),np.int32(attr_alcohol[:,i])))\n",
    "    nx.set_node_attributes(G1,'alcohol1',d1)\n",
    "    a_value=nx.numeric_assortativity_coefficient(G1,'alcohol1')\n",
    "    plt.plot(i,a_value,'bo',ms=20)\n",
    "plt.ylim([0.2,0.45])\n",
    "plt.xlim([-0.3,2.5])\n",
    "plt.xticks([0,1,2],['year 1', 'year 2', 'year 3']);"
   ]
  },
  {
   "cell_type": "code",
   "execution_count": null,
   "metadata": {
    "collapsed": true
   },
   "outputs": [],
   "source": []
  }
 ],
 "metadata": {
  "anaconda-cloud": {},
  "kernelspec": {
   "display_name": "Python [Root]",
   "language": "python",
   "name": "Python [Root]"
  },
  "language_info": {
   "codemirror_mode": {
    "name": "ipython",
    "version": 2
   },
   "file_extension": ".py",
   "mimetype": "text/x-python",
   "name": "python",
   "nbconvert_exporter": "python",
   "pygments_lexer": "ipython2",
   "version": "2.7.12"
  }
 },
 "nbformat": 4,
 "nbformat_minor": 0
}
